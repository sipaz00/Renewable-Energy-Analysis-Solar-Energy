{
 "cells": [
  {
   "cell_type": "code",
   "execution_count": null,
   "metadata": {},
   "outputs": [],
   "source": [
    "# pip install pandas\n",
    "# !pip install pycountry_convert"
   ]
  },
  {
   "cell_type": "markdown",
   "metadata": {},
   "source": [
    "## Libraries"
   ]
  },
  {
   "cell_type": "code",
   "execution_count": 2,
   "metadata": {},
   "outputs": [],
   "source": [
    "import pandas as pd "
   ]
  },
  {
   "cell_type": "code",
   "execution_count": null,
   "metadata": {},
   "outputs": [],
   "source": [
    "import pycountry_convert as pc"
   ]
  },
  {
   "cell_type": "code",
   "execution_count": 3,
   "metadata": {},
   "outputs": [],
   "source": [
    "# ⚙️ Settings\n",
    "pd.set_option('display.max_columns', None) # display all columns\n",
    "import warnings\n",
    "warnings.filterwarnings('ignore') # ignore warnings"
   ]
  },
  {
   "cell_type": "markdown",
   "metadata": {},
   "source": [
    "### individual csv load"
   ]
  },
  {
   "cell_type": "code",
   "execution_count": 8,
   "metadata": {},
   "outputs": [],
   "source": [
    "data = pd.read_csv('reg_tech_dt_y_es.csv')\n",
    "data1 = pd.read_csv('country_tech_dt_grid_y_es.csv')\n",
    "data2 = pd.read_csv('reg_indic_y_re_share.csv') \n",
    "data3 = pd.read_csv('pub_investment.csv')\n",
    "\n",
    "#snake_case columns\n",
    "data.columns = [column.lower().replace(\" \", \"_\") for column in data.columns]\n",
    "data1.columns = [column.lower().replace(\" \", \"_\") for column in data1.columns]\n",
    "data2.columns = [column.lower().replace(\" \", \"_\") for column in data2.columns]\n",
    "data3.columns = [column.lower().replace(\" \", \"_\") for column in data3.columns]"
   ]
  },
  {
   "cell_type": "code",
   "execution_count": 21,
   "metadata": {},
   "outputs": [],
   "source": [
    "df_region = pd.merge(data, data2, on=['region', 'year'])\n",
    "\n",
    "# Cambiar la columna de technology a los mismos valores pq tb está la columna de on-grid y off-grid\n",
    "df_country = pd.merge(data1, data3, on=['country/area', 'year'])"
   ]
  },
  {
   "cell_type": "markdown",
   "metadata": {},
   "source": [
    "### remove columns with no info (\" - \") or value 0.00  "
   ]
  },
  {
   "cell_type": "code",
   "execution_count": null,
   "metadata": {},
   "outputs": [],
   "source": [
    "# df_country.eq(\"-\").sum()\n",
    "# df_region.eq(\"-\").sum()\n",
    "\n",
    "# df_country.eq(\"0.00\").sum()\n",
    "# df_region.eq(\"0.00\").sum()"
   ]
  },
  {
   "cell_type": "code",
   "execution_count": null,
   "metadata": {},
   "outputs": [],
   "source": [
    "df_country1 = df_country[(df_country['electricity_statistics_(mw/gwh)'] != '-') & (df_country['electricity_statistics_(mw/gwh)'] != '0.00') & (df_country['public_investments_(2021_million_usd)'] != 0.00)]\n",
    "df_region1 = df_region[(df_region['electricity_statistics'] != '-') & (df_region['re_share_of_electricity_capacity_and_generation_%'] != '-') & (df_region['electricity_statistics'] != '0.00')]\n",
    "\n",
    "# pass to csv\n",
    "country_df = df_country1.to_csv('country_df.csv', index=False)\n",
    "region_df = df_region1.to_csv('region_df.csv', index=False)"
   ]
  },
  {
   "cell_type": "code",
   "execution_count": null,
   "metadata": {},
   "outputs": [],
   "source": [
    "# read combined csv\n",
    "data_country = pd.read_csv('country_df.csv')\n",
    "data_region = pd.read_csv('region_df.csv')"
   ]
  },
  {
   "cell_type": "markdown",
   "metadata": {},
   "source": [
    "### copy"
   ]
  },
  {
   "cell_type": "code",
   "execution_count": 125,
   "metadata": {},
   "outputs": [],
   "source": [
    "df_c = data_country.copy()\n",
    "df_r = data_region.copy()"
   ]
  },
  {
   "cell_type": "markdown",
   "metadata": {},
   "source": [
    "### clean"
   ]
  },
  {
   "cell_type": "code",
   "execution_count": null,
   "metadata": {},
   "outputs": [],
   "source": [
    "df_c.rename(columns={'country/area': 'country'}, inplace=True)"
   ]
  },
  {
   "cell_type": "code",
   "execution_count": null,
   "metadata": {},
   "outputs": [],
   "source": [
    "# clean � from coutry names\n",
    "df_c['country'] = df_c['country'].replace({\n",
    "    \"R�union\": \"Réunion\",\n",
    "    \"C�te d'Ivoire\": \"Côte d'Ivoire\",\n",
    "    \"T�rkiye\": \"Türkiye\"\n",
    "})\n",
    "\n",
    "# remove () from country names\n",
    "df_c['country'] = df_c['country'].replace({\n",
    "    \"Bahamas (the)\": \"Bahamas\",\n",
    "    \"Bolivia (Plurinational State of)\": \"Bolivia\",\n",
    "    \"Central African Republic (the)\": \"Central African Republic\",\n",
    "    \"Comoros (the)\": \"Comoros\",\n",
    "    \"Congo (the)\": \"Congo\",\n",
    "    \"Cook Islands (the)\": \"Cook Islands\",\n",
    "    \"Democratic Republic of the Congo (the)\": \"Democratic Republic of the Congo\",\n",
    "    \"Dominican Republic (the)\": \"Dominican Republic\",\n",
    "    \"Gambia (the)\": \"Gambia\",\n",
    "    \"Iran (Islamic Republic of)\": \"Iran\",\n",
    "    \"Kosovo\": \"Republic of Kosovo\",\n",
    "    \"Lao People's Democratic Republic (the)\": \"Lao People's Democratic Republic\",\n",
    "    \"Marshall Islands (the)\": \"Marshall Islands\",\n",
    "    \"Micronesia (Federated States of)\": \"Micronesia\",\n",
    "    \"Netherlands (Kingdom of the)\": \"Netherlands\",\n",
    "    \"Niger (the)\": \"Niger\",\n",
    "    \"Philippines (the)\": \"Philippines\",\n",
    "    \"Republic of Moldova (the)\": \"Republic of Moldova\",\n",
    "    \"State of Palestine (the)\": \"Palestine\",\n",
    "    \"Sudan (the)\": \"Sudan\",\n",
    "    \"Syrian Arab Republic (the)\": \"Syria\",\n",
    "    \"Timor-Leste\": \"East Timor\",\n",
    "    \"United Republic of Tanzania (the)\": \"Tanzania\",\n",
    "    \"United States of America (the)\": \"United States\"\n",
    "})"
   ]
  },
  {
   "cell_type": "code",
   "execution_count": 154,
   "metadata": {},
   "outputs": [],
   "source": [
    "# function to get the region\n",
    "def get_continent(country):\n",
    "    try:\n",
    "        country_code = pc.country_name_to_country_alpha2(country, cn_name_format=\"default\")\n",
    "        continent_code = pc.country_alpha2_to_continent_code(country_code)\n",
    "        continent_name = {\n",
    "            \"AF\": \"Africa\",\n",
    "            \"AS\": \"Asia\",\n",
    "            \"EU\": \"Europe\",\n",
    "            \"NA\": \"North America\",\n",
    "            \"SA\": \"South America\",\n",
    "            \"OC\": \"Oceania\"\n",
    "        }\n",
    "        return continent_name[continent_code]\n",
    "    except:\n",
    "        return \"Unknown\""
   ]
  },
  {
   "cell_type": "code",
   "execution_count": 171,
   "metadata": {},
   "outputs": [],
   "source": [
    "# apply function to create col for continent\n",
    "df_c['continent'] = df_c['country'].apply(get_continent)"
   ]
  },
  {
   "cell_type": "code",
   "execution_count": null,
   "metadata": {},
   "outputs": [],
   "source": []
  }
 ],
 "metadata": {
  "kernelspec": {
   "display_name": "final_project_Ironhack25",
   "language": "python",
   "name": "python3"
  },
  "language_info": {
   "codemirror_mode": {
    "name": "ipython",
    "version": 3
   },
   "file_extension": ".py",
   "mimetype": "text/x-python",
   "name": "python",
   "nbconvert_exporter": "python",
   "pygments_lexer": "ipython3",
   "version": "3.11.11"
  }
 },
 "nbformat": 4,
 "nbformat_minor": 2
}
